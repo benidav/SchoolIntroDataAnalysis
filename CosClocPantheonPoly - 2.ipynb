{
 "cells": [
  {
   "cell_type": "markdown",
   "metadata": {},
   "source": [
    "# Written By David Benisty"
   ]
  },
  {
   "cell_type": "code",
   "execution_count": 2,
   "metadata": {},
   "outputs": [],
   "source": [
    "import numpy as np\n",
    "from numpy import pi, log, sqrt, power\n",
    "\n",
    "# load Cosmic Chronometers dataset\n",
    "ccData = np.genfromtxt(\"CC.txt\")\n",
    "ccData = ccData[np.argsort(ccData[:,0])]  #orgenize the array with respect to the z part (ccData[:,1])\n",
    "# load Pantheon dataset\n",
    "panthData = np.genfromtxt(\"lcparam_full_long_zhel.txt\")\n",
    "panthData = panthData[np.argsort(panthData[:,1])] #orgenize the array with respect to the z part (ccData[:,1])"
   ]
  },
  {
   "cell_type": "code",
   "execution_count": 2,
   "metadata": {},
   "outputs": [
    {
     "data": {
      "text/plain": [
       "array([0.76690281, 1.19925799, 1.46968511, 1.65692792])"
      ]
     },
     "execution_count": 2,
     "metadata": {},
     "output_type": "execute_result"
    }
   ],
   "source": [
    "from scipy.integrate import odeint\n",
    "#H functions\n",
    "c = 299792.458\n",
    "\n",
    "def E(theta,z):\n",
    "    H0, Om, M = theta\n",
    "    return np.sqrt(Om*(1+z)**3 + (1-Om))\n",
    "\n",
    "def dchidz(x,z, H0, Om, M):\n",
    "    return 1/E([H0, Om, M],z)\n",
    "\n",
    "def chiInt(theta,z):\n",
    "    H0, Om, M = theta\n",
    "    z = np.hstack((np.array((0)), z))\n",
    "    arr = odeint(dchidz,0,z,args=(H0, Om, M,))\n",
    "    return np.delete(arr ,0)\n",
    "\n",
    "chiInt([67,0.31,-19],[1,2,3,4])"
   ]
  },
  {
   "cell_type": "code",
   "execution_count": 3,
   "metadata": {},
   "outputs": [
    {
     "data": {
      "text/plain": [
       "array([119.29010856, 201.66888704, 303.57728835, 420.76853495])"
      ]
     },
     "execution_count": 3,
     "metadata": {},
     "output_type": "execute_result"
    }
   ],
   "source": [
    "def Harr(theta,z):\n",
    "    H0, Om, M = theta\n",
    "    arr = []\n",
    "    \n",
    "    for i in range(len(z)):\n",
    "        arr.append(H0*E(theta,z[i]))\n",
    "    arr = np.array(arr)\n",
    "    arr.shape\n",
    "    return arr\n",
    "\n",
    "Harr([67,0.31,-19],[1,2,3,4])"
   ]
  },
  {
   "cell_type": "code",
   "execution_count": 4,
   "metadata": {},
   "outputs": [
    {
     "data": {
      "text/plain": [
       "array([25.18258114, 27.03389888, 28.10015093])"
      ]
     },
     "execution_count": 4,
     "metadata": {},
     "output_type": "execute_result"
    }
   ],
   "source": [
    "def DL(theta,z):\n",
    "    H0, Om, M = theta\n",
    "    chi = chiInt(theta,z)\n",
    "    return c*chi/H0\n",
    "\n",
    "def mu(theta,z):\n",
    "    H0, Om, M = theta\n",
    "\n",
    "    dL = DL(theta,z)    \n",
    "    mu = []\n",
    "    \n",
    "    for i in range(len(z)):\n",
    "        mu.append(5*np.log10(dL[i]*(1+z[i])) + 25 + M)\n",
    "    mu = np.array(mu)\n",
    "    mu.shape\n",
    "    return mu\n",
    "\n",
    "mu([67,0.31,-19],[1,2,3])"
   ]
  },
  {
   "cell_type": "code",
   "execution_count": 5,
   "metadata": {},
   "outputs": [
    {
     "name": "stderr",
     "output_type": "stream",
     "text": [
      "/usr/lib/python2.7/dist-packages/ipykernel_launcher.py:13: RuntimeWarning: divide by zero encountered in log10\n",
      "  del sys.path[0]\n"
     ]
    },
    {
     "data": {
      "text/plain": [
       "Text(0,0.5,'$\\\\mu$')"
      ]
     },
     "execution_count": 5,
     "metadata": {},
     "output_type": "execute_result"
    },
    {
     "data": {
      "image/png": "[encoded data removed]",
      "text/plain": [
       "<Figure size 432x288 with 1 Axes>"
      ]
     },
     "metadata": {},
     "output_type": "display_data"
    }
   ],
   "source": [
    "import matplotlib.pyplot as plt\n",
    "%matplotlib inline\n",
    "\n",
    "zz = np.linspace(0,2.5,100)\n",
    "plt.plot(zz,mu([74,0.31,-19.2334],zz))\n",
    "plt.errorbar(panthData[:,1], panthData[:,4], panthData[:,5], fmt='r.', markersize=1,label = 'Pantheon')\n",
    "\n",
    "plt.xlabel('z')\n",
    "plt.ylabel('$\\mu$')"
   ]
  },
  {
   "cell_type": "code",
   "execution_count": 6,
   "metadata": {},
   "outputs": [
    {
     "name": "stdout",
     "output_type": "stream",
     "text": [
      "(1044.7051926034337, 'for Pantheon')\n",
      "(14.611496165415147, 'for Cosmic Chronometers')\n"
     ]
    }
   ],
   "source": [
    "#general Likelihood function for uncorrelated dataset\n",
    "def lnlike(theta,fun,x,y,dy):\n",
    "    chi2 = 0\n",
    "    arr = fun(theta,x)\n",
    "    for j in range(len(x)):\n",
    "        chi2 += ((arr[j] - y[j])/dy[j])**2\n",
    "    return chi2\n",
    "\n",
    "print(lnlike([74,0.31,-19.2334],mu,panthData[:,1], panthData[:,4], panthData[:,5]),\"for Pantheon\")\n",
    "print(lnlike([69,0.31,-19.2334],Harr,ccData[:,0], ccData[:,1], ccData[:,2]),\"for Cosmic Chronometers\")"
   ]
  },
  {
   "cell_type": "code",
   "execution_count": 7,
   "metadata": {},
   "outputs": [],
   "source": [
    "# the likelihoods for the Polychord\n",
    "def lnlikeCC(theta):\n",
    "    H0, Om, M = theta\n",
    "    chi2 = lnlike(theta,Harr,ccData[:,0], ccData[:,1], ccData[:,2])\n",
    "    return -chi2, [chi2, chi2/(len(ccData[:,0])-3),1-Om]\n",
    "\n",
    "def lnlikeIa(theta):\n",
    "    H0, Om, M = theta\n",
    "    chi2 = lnlike(theta,mu,panthData[:,1], panthData[:,4], panthData[:,5])\n",
    "    return -chi2, [chi2, chi2/(len(panthData[:,1])-3),1-Om]\n",
    "\n",
    "def lnlikeTot(theta):\n",
    "    H0, Om, M = theta\n",
    "    chi2 = lnlike(theta,Harr,ccData[:,0], ccData[:,1], ccData[:,2])\n",
    "    chi2 += lnlike(theta,mu,panthData[:,1], panthData[:,4], panthData[:,5]) \n",
    "    return -chi2, [chi2, chi2/(len(ccData[:,0])+len(panthData[:,1])-3),1-Om]"
   ]
  },
  {
   "cell_type": "code",
   "execution_count": 8,
   "metadata": {},
   "outputs": [],
   "source": [
    "import pypolychord\n",
    "from pypolychord.settings import PolyChordSettings\n",
    "from pypolychord.priors import UniformPrior, GaussianPrior\n",
    "\n",
    "def unipriorLCDM(hypercube):\n",
    "    prior = []\n",
    "    prior.append(UniformPrior(50,100)(hypercube[0]))\n",
    "    prior.append(UniformPrior(0.,1.)(hypercube[1]))\n",
    "    prior.append(GaussianPrior(-19.2334,0.0404)(hypercube[2]))\n",
    "    return prior\n",
    "\n",
    "runs = 40\n",
    "\n",
    "def dumper(live, dead, logweights, logZ, logZerr):\n",
    "    print(\"Last dead point:\", dead[-1])"
   ]
  },
  {
   "cell_type": "code",
   "execution_count": 9,
   "metadata": {},
   "outputs": [],
   "source": [
    "settingsCC = PolyChordSettings(3,3)\n",
    "settingsCC.file_root = 'CC'\n",
    "settingsCC.nlive = runs\n",
    "settingsCC.do_clustering = True\n",
    "settingsCC.read_resume = False\n",
    "\n",
    "settingsIa = PolyChordSettings(3,3)\n",
    "settingsIa.file_root = 'Ia'\n",
    "settingsIa.nlive = runs\n",
    "settingsIa.do_clustering = True\n",
    "settingsIa.read_resume = False\n",
    "\n",
    "settingsCCIa = PolyChordSettings(3,3)\n",
    "settingsCCIa.file_root = 'CCIa'\n",
    "settingsCCIa.nlive = runs\n",
    "settingsCCIa.do_clustering = True\n",
    "settingsCCIa.read_resume = False"
   ]
  },
  {
   "cell_type": "code",
   "execution_count": 10,
   "metadata": {},
   "outputs": [
    {
     "name": "stdout",
     "output_type": "stream",
     "text": [
      "('Last dead point:', array([ 62.83242652,   0.73611514, -19.21665954,  78.08637776,\n",
      "         3.00332222,   0.26388486, -88.6350579 , -78.08637776]))\n",
      "('Last dead point:', array([ 67.89101329,   0.20931347, -19.22445075,  30.59188922,\n",
      "         1.17661112,   0.79068653, -67.58782619, -30.59188922]))\n",
      "('Last dead point:', array([ 60.25793022,   0.45013956, -19.24507539,  21.25433488,\n",
      "         0.81747442,   0.54986044, -26.91280587, -21.25433488]))\n",
      "('Last dead point:', array([ 71.70905462,   0.24053622, -19.26406263,  16.79378278,\n",
      "         0.64591472,   0.75946378, -20.23727216, -16.79378278]))\n",
      "('Last dead point:', array([ 65.32583683,   0.36963271, -19.19378046,  15.33118251,\n",
      "         0.58966087,   0.63036729, -16.62202729, -15.33118251]))\n",
      "('Last dead point:', array([ 69.76358957,   0.28729963, -19.31611185,  14.84719693,\n",
      "         0.57104604,   0.71270037, -16.11552959, -14.84719693]))\n",
      "('Last dead point:', array([ 69.19558008,   0.30218554, -19.24622236,  14.63135371,\n",
      "         0.56274437,   0.69781446, -14.80193542, -14.63135371]))\n",
      "('Last dead point:', array([ 67.67494259,   0.33192363, -19.21001952,  14.55966159,\n",
      "         0.55998698,   0.66807637, -14.61384539, -14.55966159]))\n",
      "('Last dead point:', array([ 68.37707264,   0.31308801, -19.2938796 ,  14.52905568,\n",
      "         0.55880983,   0.68691199, -14.57475804, -14.52905568]))\n",
      "('Last dead point:', array([ 68.29119938,   0.31573015, -19.29431414,  14.51985619,\n",
      "         0.55845601,   0.68426985, -14.54804905, -14.51985619]))\n",
      "('Last dead point:', array([ 68.23785763,   0.31802543, -19.21401948,  14.51611027,\n",
      "         0.55831193,   0.68197457, -14.52227836, -14.51611027]))\n",
      "('Last dead point:', array([ 68.14204758,   0.31958236, -19.25977584,  14.51526743,\n",
      "         0.55827952,   0.68041764, -14.51963742, -14.51526743]))\n"
     ]
    },
    {
     "name": "stderr",
     "output_type": "stream",
     "text": [
      "/home/benidav/.local/lib/python2.7/site-packages/pypolychord/output.py:191: FutureWarning: read_table is deprecated, use read_csv instead.\n",
      "  names= initial_col_names)\n"
     ]
    }
   ],
   "source": [
    "outputCC = pypolychord.run_polychord(lnlikeCC, 3, 3, settingsCC, unipriorLCDM, dumper)"
   ]
  },
  {
   "cell_type": "code",
   "execution_count": 11,
   "metadata": {},
   "outputs": [
    {
     "name": "stdout",
     "output_type": "stream",
     "text": [
      "('Last dead point:', array([ 7.71584119e+01,  6.57863129e-01, -1.92327407e+01,  4.58775492e+03,\n",
      "        4.39019609e+00,  3.42136871e-01, -1.00000000e+30, -4.58775492e+03]))\n",
      "('Last dead point:', array([ 7.76885734e+01,  1.93922154e-01, -1.92900999e+01,  1.94547416e+03,\n",
      "        1.86169776e+00,  8.06077846e-01, -2.02142382e+03, -1.94547416e+03]))\n",
      "('Last dead point:', array([ 6.83763017e+01,  4.74482307e-01, -1.92742631e+01,  1.39838819e+03,\n",
      "        1.33817052e+00,  5.25517693e-01, -1.94547416e+03, -1.39838819e+03]))\n",
      "('Last dead point:', array([ 7.11223038e+01,  4.11879832e-01, -1.93007460e+01,  1.17852848e+03,\n",
      "        1.12777845e+00,  5.88120168e-01, -1.27392974e+03, -1.17852848e+03]))\n",
      "('Last dead point:', array([ 7.47466279e+01,  2.77790029e-01, -1.92402706e+01,  1.07109008e+03,\n",
      "        1.02496658e+00,  7.22209971e-01, -1.15668354e+03, -1.07109008e+03]))\n",
      "('Last dead point:', array([ 7.29450053e+01,  3.08708016e-01, -1.92431594e+01,  1.04797914e+03,\n",
      "        1.00285085e+00,  6.91291984e-01, -1.16932870e+03, -1.04797914e+03]))\n",
      "('Last dead point:', array([ 7.27701516e+01,  2.60231986e-01, -1.92787191e+01,  1.04022700e+03,\n",
      "        9.95432539e-01,  7.39768014e-01, -1.06199024e+03, -1.04022700e+03]))\n",
      "('Last dead point:', array([ 7.38078607e+01,  2.71937429e-01, -1.92431387e+01,  1.03711986e+03,\n",
      "        9.92459196e-01,  7.28062571e-01, -1.03744923e+03, -1.03711986e+03]))\n",
      "('Last dead point:', array([ 7.44986485e+01,  2.75876921e-01, -1.92238735e+01,  1.03615130e+03,\n",
      "        9.91532348e-01,  7.24123079e-01, -1.03709315e+03, -1.03615130e+03]))\n",
      "('Last dead point:', array([ 7.60006532e+01,  2.79584853e-01, -1.91793638e+01,  1.03580578e+03,\n",
      "        9.91201707e-01,  7.20415147e-01, -1.03580930e+03, -1.03580578e+03]))\n",
      "('Last dead point:', array([ 7.42038577e+01,  2.82573778e-01, -1.92292223e+01,  1.03563332e+03,\n",
      "        9.91036674e-01,  7.17426222e-01, -1.03695301e+03, -1.03563332e+03]))\n",
      "('Last dead point:', array([ 7.44730818e+01,  2.86498126e-01, -1.92198651e+01,  1.03559654e+03,\n",
      "        9.91001477e-01,  7.13501874e-01, -1.03562193e+03, -1.03559654e+03]))\n",
      "('Last dead point:', array([ 7.32849374e+01,  2.85838075e-01, -1.92550728e+01,  1.03558822e+03,\n",
      "        9.90993509e-01,  7.14161925e-01, -1.03558942e+03, -1.03558822e+03]))\n",
      "('Last dead point:', array([ 7.49362846e+01,  2.85476449e-01, -1.92069126e+01,  1.03558568e+03,\n",
      "        9.90991084e-01,  7.14523551e-01, -1.03558631e+03, -1.03558568e+03]))\n",
      "('Last dead point:', array([ 7.37789689e+01,  2.85152338e-01, -1.92408857e+01,  1.03558520e+03,\n",
      "        9.90990627e-01,  7.14847662e-01, -1.03558588e+03, -1.03558520e+03]))\n",
      "('Last dead point:', array([ 7.38129304e+01,  2.85187751e-01, -1.92398419e+01,  1.03558514e+03,\n",
      "        9.90990565e-01,  7.14812249e-01, -1.03558520e+03, -1.03558514e+03]))\n"
     ]
    }
   ],
   "source": [
    "outputIa = pypolychord.run_polychord(lnlikeIa, 3, 3, settingsIa, unipriorLCDM, dumper)"
   ]
  },
  {
   "cell_type": "code",
   "execution_count": 12,
   "metadata": {},
   "outputs": [
    {
     "name": "stdout",
     "output_type": "stream",
     "text": [
      "('Last dead point:', array([ 8.27048920e+01,  2.77255398e-01, -1.92990366e+01,  6.45800672e+03,\n",
      "        6.01304164e+00,  7.22744602e-01, -1.00000000e+30, -6.45800672e+03]))\n",
      "('Last dead point:', array([ 7.24152738e+01,  6.56504215e-01, -1.92689153e+01,  2.66433035e+03,\n",
      "        2.48075452e+00,  3.43495785e-01, -3.10424727e+03, -2.66433035e+03]))\n",
      "('Last dead point:', array([ 7.44440458e+01,  1.37195888e-01, -1.92080733e+01,  1.64899220e+03,\n",
      "        1.53537449e+00,  8.62804112e-01, -8.25827033e+03, -1.64899220e+03]))\n",
      "('Last dead point:', array([ 6.92154120e+01,  4.76291122e-01, -1.92820779e+01,  1.28510509e+03,\n",
      "        1.19655967e+00,  5.23708878e-01, -1.38578462e+03, -1.28510509e+03]))\n",
      "('Last dead point:', array([ 7.27384351e+01,  3.22575445e-01, -1.92239978e+01,  1.12707067e+03,\n",
      "        1.04941403e+00,  6.77424555e-01, -1.23615205e+03, -1.12707067e+03]))\n",
      "('Last dead point:', array([ 7.48959668e+01,  3.05940296e-01, -1.92171489e+01,  1.08594317e+03,\n",
      "        1.01112027e+00,  6.94059704e-01, -1.11822047e+03, -1.08594317e+03]))\n",
      "('Last dead point:', array([ 7.24356288e+01,  2.50665108e-01, -1.92840554e+01,  1.06825289e+03,\n",
      "        9.94648876e-01,  7.49334892e-01, -1.06844754e+03, -1.06825289e+03]))\n",
      "('Last dead point:', array([ 7.45226219e+01,  2.58915575e-01, -1.92264480e+01,  1.06144291e+03,\n",
      "        9.88308111e-01,  7.41084425e-01, -1.07451035e+03, -1.06144291e+03]))\n",
      "('Last dead point:', array([ 7.05994843e+01,  2.58355046e-01, -1.93475342e+01,  1.05631888e+03,\n",
      "        9.83537128e-01,  7.41644954e-01, -1.05660003e+03, -1.05631888e+03]))\n",
      "('Last dead point:', array([ 7.16475971e+01,  2.77681921e-01, -1.93016633e+01,  1.05407714e+03,\n",
      "        9.81449854e-01,  7.22318079e-01, -1.05432416e+03, -1.05407714e+03]))\n",
      "('Last dead point:', array([ 7.18233649e+01,  2.81418782e-01, -1.93035796e+01,  1.05248851e+03,\n",
      "        9.79970679e-01,  7.18581218e-01, -1.05561575e+03, -1.05248851e+03]))\n",
      "('Last dead point:', array([ 7.16139421e+01,  2.82459910e-01, -1.93054746e+01,  1.05182999e+03,\n",
      "        9.79357531e-01,  7.17540090e-01, -1.05241188e+03, -1.05182999e+03]))\n",
      "('Last dead point:', array([ 7.08252033e+01,  2.90618508e-01, -1.93273494e+01,  1.05124444e+03,\n",
      "        9.78812326e-01,  7.09381492e-01, -1.05156574e+03, -1.05124444e+03]))\n",
      "('Last dead point:', array([ 7.08437791e+01,  2.85187838e-01, -1.93286275e+01,  1.05094725e+03,\n",
      "        9.78535618e-01,  7.14812162e-01, -1.05110205e+03, -1.05094725e+03]))\n",
      "('Last dead point:', array([ 6.97140667e+01,  2.93309287e-01, -1.93600435e+01,  1.05078955e+03,\n",
      "        9.78388777e-01,  7.06690713e-01, -1.05088376e+03, -1.05078955e+03]))\n",
      "('Last dead point:', array([ 6.99273774e+01,  2.84657220e-01, -1.93592703e+01,  1.05068109e+03,\n",
      "        9.78287795e-01,  7.15342780e-01, -1.05074152e+03, -1.05068109e+03]))\n",
      "('Last dead point:', array([ 6.98289226e+01,  2.88345829e-01, -1.93575459e+01,  1.05060974e+03,\n",
      "        9.78221363e-01,  7.11654171e-01, -1.05061336e+03, -1.05060974e+03]))\n",
      "('Last dead point:', array([ 6.99545858e+01,  2.84439775e-01, -1.93574306e+01,  1.05053360e+03,\n",
      "        9.78150465e-01,  7.15560225e-01, -1.05061042e+03, -1.05053360e+03]))\n",
      "('Last dead point:', array([ 6.96278736e+01,  2.86957238e-01, -1.93660247e+01,  1.05045617e+03,\n",
      "        9.78078367e-01,  7.13042762e-01, -1.05054845e+03, -1.05045617e+03]))\n"
     ]
    }
   ],
   "source": [
    "outputTot = pypolychord.run_polychord(lnlikeTot, 3, 3, settingsCCIa, unipriorLCDM, dumper)"
   ]
  },
  {
   "cell_type": "code",
   "execution_count": 13,
   "metadata": {},
   "outputs": [
    {
     "name": "stderr",
     "output_type": "stream",
     "text": [
      "WARNING:root:outlier fraction 0.210735586481 \n",
      "WARNING:root:outlier fraction 0.191729323308 \n"
     ]
    },
    {
     "name": "stdout",
     "output_type": "stream",
     "text": [
      "chains/CC.txt\n",
      "Removed no burn in\n",
      "chains/Ia.txt\n",
      "Removed no burn in\n",
      "chains/CCIa.txt\n"
     ]
    },
    {
     "name": "stderr",
     "output_type": "stream",
     "text": [
      "WARNING:root:outlier fraction 0.218803418803 \n"
     ]
    },
    {
     "name": "stdout",
     "output_type": "stream",
     "text": [
      "Removed no burn in\n"
     ]
    }
   ],
   "source": [
    "paramnamesLCDM = [('h0','H_0 (km/sec/Mpc)'),('Om', '\\Omega_m'),('M','M'),('chi','chi'),('L',r'L'),('ol', r'\\Omega_\\Lambda')]\n",
    "outputCC.make_paramnames_files(paramnamesLCDM);posteriorCC = outputCC.posterior;\n",
    "outputIa.make_paramnames_files(paramnamesLCDM);posteriorIa = outputIa.posterior;\n",
    "outputTot.make_paramnames_files(paramnamesLCDM);posteriorTot = outputTot.posterior;"
   ]
  },
  {
   "cell_type": "code",
   "execution_count": 19,
   "metadata": {},
   "outputs": [
    {
     "data": {
      "image/png": "[encoded data removed]",
      "text/plain": [
       "<Figure size 432x432 with 6 Axes>"
      ]
     },
     "metadata": {},
     "output_type": "display_data"
    }
   ],
   "source": [
    "from getdist import plots, MCSamples\n",
    "import getdist\n",
    "\n",
    "\n",
    "g = getdist.plots.getSubplotPlotter()\n",
    "g.triangle_plot([posteriorCC,posteriorIa,posteriorTot], ('h0','Om','ol') ,filled=True, legend_labels=[r'CC',r'Panth',r'Tot'])\n",
    "g.export(\"CCPanTot.eps\")"
   ]
  },
  {
   "cell_type": "code",
   "execution_count": 20,
   "metadata": {},
   "outputs": [
    {
     "data": {
      "text/plain": [
       "Global evidence:\n",
       "log(Z)    -19.427277 +/-  0.311643\n",
       "\n",
       "Local evidences:\n",
       "log(Z_1)    -21.082480 +/-  0.322164\n",
       "log(Z_2)    -22.446459 +/-  0.341635\n",
       "log(Z_3)    -21.322738 +/-  0.326995\n",
       "log(Z_4)    -21.979045 +/-  0.339787\n",
       "log(Z_5)    -22.120271 +/-  0.353091\n",
       "log(Z_6)    -20.203265 +/-  0.314916\n",
       "\n",
       "Run-time information:\n",
       "<nlike>       [0.0]\n",
       "ncluster          6\n",
       "ndead           540\n",
       "nequals          98\n",
       "nlike         50282\n",
       "nlive             0\n",
       "nposterior      540\n",
       "\n",
       "Parameter estimates:\n",
       "h0   H_0 (km/sec/Mpc)     6.809E+01 +\\- 2.123E+00\n",
       "Om   \\Omega_m             3.238E-01 +\\- 4.152E-02\n",
       "M    M                   -1.923E+01 +\\- 4.162E-02\n",
       "chi  chi                  1.549E+01 +\\- 8.651E-01\n",
       "L    L                    5.958E-01 +\\- 3.327E-02\n",
       "ol   \\Omega_\\Lambda       6.762E-01 +\\- 4.152E-02"
      ]
     },
     "execution_count": 20,
     "metadata": {},
     "output_type": "execute_result"
    }
   ],
   "source": [
    "outputCC"
   ]
  },
  {
   "cell_type": "code",
   "execution_count": 21,
   "metadata": {},
   "outputs": [
    {
     "data": {
      "text/plain": [
       "Global evidence:\n",
       "log(Z)    -1044.267103 +/-  0.430693\n",
       "\n",
       "Local evidences:\n",
       "log(Z_1)     -1054.350772 +/-  0.842529\n",
       "log(Z_2)     -1047.154323 +/-  0.590964\n",
       "log(Z_3)     -1047.956940 +/-  0.514389\n",
       "log(Z_4)     -1046.885900 +/-  0.494186\n",
       "log(Z_5)     -1045.127967 +/-  0.475860\n",
       "log(Z_6)     -1047.171980 +/-  0.587568\n",
       "log(Z_7)     -1048.073210 +/-  0.595787\n",
       "log(Z_8)     -1045.792904 +/-  0.564738\n",
       "log(Z_9)     -1048.265758 +/-  0.597195\n",
       "log(Z_10)    -1048.169974 +/-  0.595925\n",
       "log(Z_11)    -1047.316104 +/-  0.500187\n",
       "\n",
       "Run-time information:\n",
       "<nlike>       [0.0]\n",
       "ncluster         11\n",
       "ndead           720\n",
       "nequals          76\n",
       "nlike         62591\n",
       "nlive             0\n",
       "nposterior      720\n",
       "\n",
       "Parameter estimates:\n",
       "h0   H_0 (km/sec/Mpc)     7.392E+01 +\\- 1.700E+00\n",
       "Om   \\Omega_m             2.857E-01 +\\- 7.721E-03\n",
       "M    M                   -1.924E+01 +\\- 4.990E-02\n",
       "chi  chi                  1.036E+03 +\\- 9.371E-01\n",
       "L    L                    9.918E-01 +\\- 8.968E-04\n",
       "ol   \\Omega_\\Lambda       7.143E-01 +\\- 7.721E-03"
      ]
     },
     "execution_count": 21,
     "metadata": {},
     "output_type": "execute_result"
    }
   ],
   "source": [
    "outputIa"
   ]
  },
  {
   "cell_type": "code",
   "execution_count": 22,
   "metadata": {},
   "outputs": [
    {
     "data": {
      "text/plain": [
       "Global evidence:\n",
       "log(Z)    -1062.575438 +/-  0.525441\n",
       "\n",
       "Local evidences:\n",
       "log(Z_1)    -1072.489254 +/-  0.801568\n",
       "log(Z_2)    -1068.526455 +/-  0.605474\n",
       "log(Z_3)    -1067.666151 +/-  0.665798\n",
       "log(Z_4)    -1065.092382 +/-  0.532782\n",
       "log(Z_5)    -1065.129245 +/-  0.611836\n",
       "log(Z_6)    -1062.768912 +/-  0.533931\n",
       "\n",
       "Run-time information:\n",
       "<nlike>       [0.0]\n",
       "ncluster          6\n",
       "ndead           793\n",
       "nequals          32\n",
       "nlike         58477\n",
       "nlive             0\n",
       "nposterior      793\n",
       "\n",
       "Parameter estimates:\n",
       "h0   H_0 (km/sec/Mpc)     7.138E+01 +\\- 7.952E-01\n",
       "Om   \\Omega_m             2.840E-01 +\\- 8.358E-03\n",
       "M    M                   -1.931E+01 +\\- 2.329E-02\n",
       "chi  chi                  1.053E+03 +\\- 1.250E+00\n",
       "L    L                    9.800E-01 +\\- 1.164E-03\n",
       "ol   \\Omega_\\Lambda       7.160E-01 +\\- 8.358E-03"
      ]
     },
     "execution_count": 22,
     "metadata": {},
     "output_type": "execute_result"
    }
   ],
   "source": [
    "outputTot"
   ]
  },
  {
   "cell_type": "code",
   "execution_count": 18,
   "metadata": {},
   "outputs": [
    {
     "data": {
      "image/png": "[encoded data removed]",
      "text/plain": [
       "<Figure size 720x720 with 1 Axes>"
      ]
     },
     "metadata": {},
     "output_type": "display_data"
    }
   ],
   "source": [
    "g = plots.get_single_plotter(width_inch=10, ratio=1)\n",
    "g.plot_2d([posteriorCC,posteriorIa,posteriorTot], 'h0', 'Om', filled=True)\n",
    "g.add_x_bands(73.24,1.74)"
   ]
  }
 ],
 "metadata": {
  "kernelspec": {
   "display_name": "Python 2",
   "language": "python",
   "name": "python2"
  },
  "language_info": {
   "codemirror_mode": {
    "name": "ipython",
    "version": 2
   },
   "file_extension": ".py",
   "mimetype": "text/x-python",
   "name": "python",
   "nbconvert_exporter": "python",
   "pygments_lexer": "ipython2",
   "version": "2.7.17"
  }
 },
 "nbformat": 4,
 "nbformat_minor": 2
}
